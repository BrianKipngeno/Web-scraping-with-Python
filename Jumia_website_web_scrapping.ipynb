{
  "nbformat": 4,
  "nbformat_minor": 0,
  "metadata": {
    "colab": {
      "provenance": [],
      "authorship_tag": "ABX9TyPrKWqRVnH3f+YpzWeFpzj2",
      "include_colab_link": true
    },
    "kernelspec": {
      "name": "python3",
      "display_name": "Python 3"
    },
    "language_info": {
      "name": "python"
    }
  },
  "cells": [
    {
      "cell_type": "markdown",
      "metadata": {
        "id": "view-in-github",
        "colab_type": "text"
      },
      "source": [
        "<a href=\"https://colab.research.google.com/github/BrianKipngeno/Web-scrapping-with-Python/blob/main/Jumia_website_web_scrapping.ipynb\" target=\"_parent\"><img src=\"https://colab.research.google.com/assets/colab-badge.svg\" alt=\"Open In Colab\"/></a>"
      ]
    },
    {
      "cell_type": "markdown",
      "source": [
        "This is a Python program that will get the top 10 ads(Product title and price) on the jumia  e-commerce website.\n",
        "\n",
        "Website URL = https://www.jumia.co.ke/space-heaters-accessories/"
      ],
      "metadata": {
        "id": "dwKu4aVBZt9Y"
      }
    },
    {
      "cell_type": "code",
      "execution_count": 1,
      "metadata": {
        "colab": {
          "base_uri": "https://localhost:8080/"
        },
        "id": "IVfCsRyJZIMB",
        "outputId": "00a68c0b-4159-4832-8e2a-5b9c78dd0aa3"
      },
      "outputs": [
        {
          "output_type": "stream",
          "name": "stdout",
          "text": [
            "\n",
            "Preview of top 10 ads:\n",
            "\n"
          ]
        }
      ],
      "source": [
        "\n",
        "import requests\n",
        "from bs4 import BeautifulSoup\n",
        "\n",
        "# Step 1: Obtaining the data\n",
        "url = 'https://www.jumia.co.ke/space-heaters-accessories/'\n",
        "response = requests.get(url)\n",
        "\n",
        "# Step 2: Parsing\n",
        "soup = BeautifulSoup(response.content, 'html.parser')\n",
        "\n",
        "# Step 3: Extracting required elements\n",
        "products = soup.find_all('div', class_='info', limit=10)  # Adjust class if necessary\n",
        "product_list = []\n",
        "\n",
        "for product in products:\n",
        "    title = product.find('h3', class_='name').text.strip()   # Extract title\n",
        "    price = product.find('div', class_='prc').text.strip()    # Extract price\n",
        "    product_list.append({'title': title, 'price': price})     # Store title and price\n",
        "\n",
        "# Step 4: Saving our data\n",
        "with open('top_10_ads.txt', 'w') as file:\n",
        "    for product in product_list:\n",
        "        file.write(f\"Product: {product['title']}, Price: {product['price']}\\n\")\n",
        "\n",
        "# Step 5: Previewing the saved data\n",
        "print(\"\\nPreview of top 10 ads:\\n\")\n",
        "with open('top_10_ads.txt', 'r') as file:\n",
        "    for line in file.readlines():\n",
        "        print(line.strip())\n",
        "\n"
      ]
    },
    {
      "cell_type": "code",
      "source": [
        "# Step 1: Obtaining the data\n",
        "url = 'https://www.jumia.co.ke/space-heaters-accessories/'\n",
        "response = requests.get(url)"
      ],
      "metadata": {
        "id": "qo57XljhaoYI"
      },
      "execution_count": 6,
      "outputs": []
    },
    {
      "cell_type": "code",
      "source": [
        "# Once we have successfully retrieved our page we can preview our document\n",
        "# by printing the first 1600 characters of the HTML document as shown below.\n",
        "# ---\n",
        "#\n",
        "print(response.text[0:1600])"
      ],
      "metadata": {
        "colab": {
          "base_uri": "https://localhost:8080/"
        },
        "id": "THgwZhtea7En",
        "outputId": "78c67ea0-db6b-4c56-f7a5-67313220d57e"
      },
      "execution_count": 3,
      "outputs": [
        {
          "output_type": "stream",
          "name": "stdout",
          "text": [
            "<!DOCTYPE html><html lang=\"en-US\"><head><title>Just a moment...</title><meta http-equiv=\"Content-Type\" content=\"text/html; charset=UTF-8\"><meta http-equiv=\"X-UA-Compatible\" content=\"IE=Edge\"><meta name=\"robots\" content=\"noindex,nofollow\"><meta name=\"viewport\" content=\"width=device-width,initial-scale=1\"><style>*{box-sizing:border-box;margin:0;padding:0}html{line-height:1.15;-webkit-text-size-adjust:100%;color:#313131}button,html{font-family:system-ui,-apple-system,BlinkMacSystemFont,Segoe UI,Roboto,Helvetica Neue,Arial,Noto Sans,sans-serif,Apple Color Emoji,Segoe UI Emoji,Segoe UI Symbol,Noto Color Emoji}body{display:flex;flex-direction:column;height:100vh;min-height:100vh}body.no-js .loading-spinner{visibility:hidden}body.theme-dark{background-color:#222;color:#d9d9d9}body.theme-dark a{color:#fff}body.theme-dark a:hover{color:#ee730a;text-decoration:underline}body.theme-dark .lds-ring div{border-color:#999 transparent transparent}body.theme-dark .font-red{color:#b20f03}body.theme-dark .pow-button{background-color:#4693ff;color:#1d1d1d}body.theme-dark #challenge-success-text{background-image:url(data:image/svg+xml;base64,PHN2ZyB4bWxucz0iaHR0cDovL3d3dy53My5vcmcvMjAwMC9zdmciIHdpZHRoPSIzMiIgaGVpZ2h0PSIzMiIgZmlsbD0ibm9uZSIgdmlld0JveD0iMCAwIDI2IDI2Ij48cGF0aCBmaWxsPSIjZDlkOWQ5IiBkPSJNMTMgMGExMyAxMyAwIDEgMCAwIDI2IDEzIDEzIDAgMCAwIDAtMjZtMCAyNGExMSAxMSAwIDEgMSAwLTIyIDExIDExIDAgMCAxIDAgMjIiLz48cGF0aCBmaWxsPSIjZDlkOWQ5IiBkPSJtMTAuOTU1IDE2LjA1NS0zLjk1LTQuMTI1LTEuNDQ1IDEuMzg1IDUuMzcgNS42MSA5LjQ5NS05LjYtMS40Mi0xLjQwNXoiLz48L3N2Zz4=)}body.theme-dark #challenge-error-text{background-image:\n"
          ]
        }
      ]
    },
    {
      "cell_type": "code",
      "source": [
        "# Step 2: Parsing\n",
        "soup = BeautifulSoup(response.content, 'html.parser')"
      ],
      "metadata": {
        "id": "3T6IyRkeav5v"
      },
      "execution_count": 4,
      "outputs": []
    },
    {
      "cell_type": "code",
      "source": [
        "# We can then print out the HTML content of the page formatted nicely,\n",
        "# using the prettify() method as shown below:\n",
        "# ---\n",
        "#\n",
        "print(soup.prettify())"
      ],
      "metadata": {
        "colab": {
          "base_uri": "https://localhost:8080/"
        },
        "id": "HwtfpoRnbIBe",
        "outputId": "ecd589ed-95d9-4c33-8629-62c176f232f0"
      },
      "execution_count": 5,
      "outputs": [
        {
          "output_type": "stream",
          "name": "stdout",
          "text": [
            "<!DOCTYPE html>\n",
            "<html lang=\"en-US\">\n",
            " <head>\n",
            "  <title>\n",
            "   Just a moment...\n",
            "  </title>\n",
            "  <meta content=\"text/html; charset=utf-8\" http-equiv=\"Content-Type\"/>\n",
            "  <meta content=\"IE=Edge\" http-equiv=\"X-UA-Compatible\"/>\n",
            "  <meta content=\"noindex,nofollow\" name=\"robots\"/>\n",
            "  <meta content=\"width=device-width,initial-scale=1\" name=\"viewport\"/>\n",
            "  <style>\n",
            "   *{box-sizing:border-box;margin:0;padding:0}html{line-height:1.15;-webkit-text-size-adjust:100%;color:#313131}button,html{font-family:system-ui,-apple-system,BlinkMacSystemFont,Segoe UI,Roboto,Helvetica Neue,Arial,Noto Sans,sans-serif,Apple Color Emoji,Segoe UI Emoji,Segoe UI Symbol,Noto Color Emoji}body{display:flex;flex-direction:column;height:100vh;min-height:100vh}body.no-js .loading-spinner{visibility:hidden}body.theme-dark{background-color:#222;color:#d9d9d9}body.theme-dark a{color:#fff}body.theme-dark a:hover{color:#ee730a;text-decoration:underline}body.theme-dark .lds-ring div{border-color:#999 transparent transparent}body.theme-dark .font-red{color:#b20f03}body.theme-dark .pow-button{background-color:#4693ff;color:#1d1d1d}body.theme-dark #challenge-success-text{background-image:url(data:image/svg+xml;base64,PHN2ZyB4bWxucz0iaHR0cDovL3d3dy53My5vcmcvMjAwMC9zdmciIHdpZHRoPSIzMiIgaGVpZ2h0PSIzMiIgZmlsbD0ibm9uZSIgdmlld0JveD0iMCAwIDI2IDI2Ij48cGF0aCBmaWxsPSIjZDlkOWQ5IiBkPSJNMTMgMGExMyAxMyAwIDEgMCAwIDI2IDEzIDEzIDAgMCAwIDAtMjZtMCAyNGExMSAxMSAwIDEgMSAwLTIyIDExIDExIDAgMCAxIDAgMjIiLz48cGF0aCBmaWxsPSIjZDlkOWQ5IiBkPSJtMTAuOTU1IDE2LjA1NS0zLjk1LTQuMTI1LTEuNDQ1IDEuMzg1IDUuMzcgNS42MSA5LjQ5NS05LjYtMS40Mi0xLjQwNXoiLz48L3N2Zz4=)}body.theme-dark #challenge-error-text{background-image:url(data:image/svg+xml;base64,PHN2ZyB4bWxucz0iaHR0cDovL3d3dy53My5vcmcvMjAwMC9zdmciIHdpZHRoPSIzMiIgaGVpZ2h0PSIzMiIgZmlsbD0ibm9uZSI+PHBhdGggZmlsbD0iI0IyMEYwMyIgZD0iTTE2IDNhMTMgMTMgMCAxIDAgMTMgMTNBMTMuMDE1IDEzLjAxNSAwIDAgMCAxNiAzbTAgMjRhMTEgMTEgMCAxIDEgMTEtMTEgMTEuMDEgMTEuMDEgMCAwIDEtMTEgMTEiLz48cGF0aCBmaWxsPSIjQjIwRjAzIiBkPSJNMTcuMDM4IDE4LjYxNUgxNC44N0wxNC41NjMgOS41aDIuNzgzem0tMS4wODQgMS40MjdxLjY2IDAgMS4wNTcuMzg4LjQwNy4zODkuNDA3Ljk5NCAwIC41OTYtLjQwNy45ODQtLjM5Ny4zOS0xLjA1Ny4zODktLjY1IDAtMS4wNTYtLjM4OS0uMzk4LS4zODktLjM5OC0uOTg0IDAtLjU5Ny4zOTgtLjk4NS40MDYtLjM5NyAxLjA1Ni0uMzk3Ii8+PC9zdmc+)}body.theme-light{background-color:#fff;color:#313131}body.theme-light a{color:#0051c3}body.theme-light a:hover{color:#ee730a;text-decoration:underline}body.theme-light .lds-ring div{border-color:#595959 transparent transparent}body.theme-light .font-red{color:#fc574a}body.theme-light .pow-button{background-color:#003681;border-color:#003681;color:#fff}body.theme-light #challenge-success-text{background-image:url(data:image/svg+xml;base64,PHN2ZyB4bWxucz0iaHR0cDovL3d3dy53My5vcmcvMjAwMC9zdmciIHdpZHRoPSIzMiIgaGVpZ2h0PSIzMiIgZmlsbD0ibm9uZSIgdmlld0JveD0iMCAwIDI2IDI2Ij48cGF0aCBmaWxsPSIjMzEzMTMxIiBkPSJNMTMgMGExMyAxMyAwIDEgMCAwIDI2IDEzIDEzIDAgMCAwIDAtMjZtMCAyNGExMSAxMSAwIDEgMSAwLTIyIDExIDExIDAgMCAxIDAgMjIiLz48cGF0aCBmaWxsPSIjMzEzMTMxIiBkPSJtMTAuOTU1IDE2LjA1NS0zLjk1LTQuMTI1LTEuNDQ1IDEuMzg1IDUuMzcgNS42MSA5LjQ5NS05LjYtMS40Mi0xLjQwNXoiLz48L3N2Zz4=)}body.theme-light #challenge-error-text{background-image:url(data:image/svg+xml;base64,PHN2ZyB4bWxucz0iaHR0cDovL3d3dy53My5vcmcvMjAwMC9zdmciIHdpZHRoPSIzMiIgaGVpZ2h0PSIzMiIgZmlsbD0ibm9uZSI+PHBhdGggZmlsbD0iI2ZjNTc0YSIgZD0iTTE2IDNhMTMgMTMgMCAxIDAgMTMgMTNBMTMuMDE1IDEzLjAxNSAwIDAgMCAxNiAzbTAgMjRhMTEgMTEgMCAxIDEgMTEtMTEgMTEuMDEgMTEuMDEgMCAwIDEtMTEgMTEiLz48cGF0aCBmaWxsPSIjZmM1NzRhIiBkPSJNMTcuMDM4IDE4LjYxNUgxNC44N0wxNC41NjMgOS41aDIuNzgzem0tMS4wODQgMS40MjdxLjY2IDAgMS4wNTcuMzg4LjQwNy4zODkuNDA3Ljk5NCAwIC41OTYtLjQwNy45ODQtLjM5Ny4zOS0xLjA1Ny4zODktLjY1IDAtMS4wNTYtLjM4OS0uMzk4LS4zODktLjM5OC0uOTg0IDAtLjU5Ny4zOTgtLjk4NS40MDYtLjM5NyAxLjA1Ni0uMzk3Ii8+PC9zdmc+)}body.theme-light.feedback-report{border:1px solid #959595}body.feedback-report{border-radius:5px}a{background-color:transparent;color:#0051c3;text-decoration:none;transition:color .15s ease}a:hover{color:#ee730a;text-decoration:underline}.main-content{margin:8rem auto;max-width:60rem;padding-left:1.5rem;padding-right:1.5rem;width:100%}.main-content .spacer{margin:2rem 0}.main-content .loading-spinner{height:76.391px}.feedback-content{align-content:space-between;display:inline-grid;height:100vh;margin:0;padding:0}.feedback-content .spacer{margin:0}.heading-favicon{height:2rem;margin-right:.5rem;width:2rem}@media (width <= 720px){.main-content{margin-top:4rem}.heading-favicon{height:1.5rem;width:1.5rem}.feedback-content{margin-top:0}}.main-wrapper{align-items:center;display:flex;flex:1;flex-direction:column}.feedback-report .main-wrapper{min-height:100vh}.font-red{color:#b20f03}.h1{font-size:2.5rem;font-weight:500;line-height:3.75rem}.h2{font-weight:500}.core-msg,.h2{font-size:1.5rem;line-height:2.25rem}.body-text,.core-msg{font-weight:400}.body-text{font-size:1rem;line-height:1.25rem}@media (width <= 720px){.h1{font-size:1.5rem;line-height:1.75rem}.h2{font-size:1.25rem}.core-msg,.h2{line-height:1.5rem}.core-msg{font-size:1rem}}#challenge-error-text{background-image:url(data:image/svg+xml;base64,PHN2ZyB4bWxucz0iaHR0cDovL3d3dy53My5vcmcvMjAwMC9zdmciIHdpZHRoPSIzMiIgaGVpZ2h0PSIzMiIgZmlsbD0ibm9uZSI+PHBhdGggZmlsbD0iI2ZjNTc0YSIgZD0iTTE2IDNhMTMgMTMgMCAxIDAgMTMgMTNBMTMuMDE1IDEzLjAxNSAwIDAgMCAxNiAzbTAgMjRhMTEgMTEgMCAxIDEgMTEtMTEgMTEuMDEgMTEuMDEgMCAwIDEtMTEgMTEiLz48cGF0aCBmaWxsPSIjZmM1NzRhIiBkPSJNMTcuMDM4IDE4LjYxNUgxNC44N0wxNC41NjMgOS41aDIuNzgzem0tMS4wODQgMS40MjdxLjY2IDAgMS4wNTcuMzg4LjQwNy4zODkuNDA3Ljk5NCAwIC41OTYtLjQwNy45ODQtLjM5Ny4zOS0xLjA1Ny4zODktLjY1IDAtMS4wNTYtLjM4OS0uMzk4LS4zODktLjM5OC0uOTg0IDAtLjU5Ny4zOTgtLjk4NS40MDYtLjM5NyAxLjA1Ni0uMzk3Ii8+PC9zdmc+);padding-left:34px}#challenge-error-text,#challenge-success-text{background-repeat:no-repeat;background-size:contain}#challenge-success-text{background-image:url(data:image/svg+xml;base64,PHN2ZyB4bWxucz0iaHR0cDovL3d3dy53My5vcmcvMjAwMC9zdmciIHdpZHRoPSIzMiIgaGVpZ2h0PSIzMiIgZmlsbD0ibm9uZSIgdmlld0JveD0iMCAwIDI2IDI2Ij48cGF0aCBmaWxsPSIjMzEzMTMxIiBkPSJNMTMgMGExMyAxMyAwIDEgMCAwIDI2IDEzIDEzIDAgMCAwIDAtMjZtMCAyNGExMSAxMSAwIDEgMSAwLTIyIDExIDExIDAgMCAxIDAgMjIiLz48cGF0aCBmaWxsPSIjMzEzMTMxIiBkPSJtMTAuOTU1IDE2LjA1NS0zLjk1LTQuMTI1LTEuNDQ1IDEuMzg1IDUuMzcgNS42MSA5LjQ5NS05LjYtMS40Mi0xLjQwNXoiLz48L3N2Zz4=);padding-left:42px}.text-center{text-align:center}.pow-button{background-color:#0051c3;border:.063rem solid #0051c3;border-radius:.313rem;color:#fff;font-size:.875rem;line-height:1.313rem;margin:2rem 0;padding:.375rem 1rem;transition-duration:.2s;transition-property:background-color,border-color,color;transition-timing-function:ease}.pow-button:hover{background-color:#003681;border-color:#003681;color:#fff;cursor:pointer}.footer{font-size:.75rem;line-height:1.125rem;margin:0 auto;max-width:60rem;padding-left:1.5rem;padding-right:1.5rem;width:100%}.footer-inner{border-top:1px solid #d9d9d9;padding-bottom:1rem;padding-top:1rem}.clearfix:after{clear:both;content:\"\";display:table}.clearfix .column{float:left;padding-right:1.5rem;width:50%}.diagnostic-wrapper{margin-bottom:.5rem}.footer .ray-id{text-align:center}.footer .ray-id code{font-family:monaco,courier,monospace}.core-msg,.zone-name-title{overflow-wrap:break-word}@media (width <= 720px){.diagnostic-wrapper{display:flex;flex-wrap:wrap;justify-content:center}.clearfix:after{clear:none;content:none;display:initial;text-align:center}.column{padding-bottom:2rem}.clearfix .column{float:none;padding:0;width:auto;word-break:keep-all}.zone-name-title{margin-bottom:1rem}}.loading-spinner{height:76.391px}.lds-ring{display:inline-block;position:relative}.lds-ring,.lds-ring div{height:1.875rem;width:1.875rem}.lds-ring div{animation:lds-ring 1.2s cubic-bezier(.5,0,.5,1) infinite;border:.3rem solid transparent;border-radius:50%;border-top-color:#313131;box-sizing:border-box;display:block;position:absolute}.lds-ring div:first-child{animation-delay:-.45s}.lds-ring div:nth-child(2){animation-delay:-.3s}.lds-ring div:nth-child(3){animation-delay:-.15s}@keyframes lds-ring{0%{transform:rotate(0)}to{transform:rotate(1turn)}}@media screen and (-ms-high-contrast:active),screen and (-ms-high-contrast:none){.main-wrapper,body{display:block}}.rtl .heading-favicon{margin-left:.5rem;margin-right:0}.rtl #challenge-success-text{background-position:100%;padding-left:0;padding-right:42px}.rtl #challenge-error-text{background-position:100%;padding-left:0;padding-right:34px}.challenge-content .spacer{margin:2rem 0}.challenge-content .loading-spinner{height:76.391px}@media (prefers-color-scheme:dark){body{background-color:#222;color:#d9d9d9}body a{color:#fff}body a:hover{color:#ee730a;text-decoration:underline}body .lds-ring div{border-color:#999 transparent transparent}body .font-red{color:#b20f03}body .pow-button{background-color:#4693ff;color:#1d1d1d}body #challenge-success-text{background-image:url(data:image/svg+xml;base64,PHN2ZyB4bWxucz0iaHR0cDovL3d3dy53My5vcmcvMjAwMC9zdmciIHdpZHRoPSIzMiIgaGVpZ2h0PSIzMiIgZmlsbD0ibm9uZSIgdmlld0JveD0iMCAwIDI2IDI2Ij48cGF0aCBmaWxsPSIjZDlkOWQ5IiBkPSJNMTMgMGExMyAxMyAwIDEgMCAwIDI2IDEzIDEzIDAgMCAwIDAtMjZtMCAyNGExMSAxMSAwIDEgMSAwLTIyIDExIDExIDAgMCAxIDAgMjIiLz48cGF0aCBmaWxsPSIjZDlkOWQ5IiBkPSJtMTAuOTU1IDE2LjA1NS0zLjk1LTQuMTI1LTEuNDQ1IDEuMzg1IDUuMzcgNS42MSA5LjQ5NS05LjYtMS40Mi0xLjQwNXoiLz48L3N2Zz4=)}body #challenge-error-text{background-image:url(data:image/svg+xml;base64,PHN2ZyB4bWxucz0iaHR0cDovL3d3dy53My5vcmcvMjAwMC9zdmciIHdpZHRoPSIzMiIgaGVpZ2h0PSIzMiIgZmlsbD0ibm9uZSI+PHBhdGggZmlsbD0iI0IyMEYwMyIgZD0iTTE2IDNhMTMgMTMgMCAxIDAgMTMgMTNBMTMuMDE1IDEzLjAxNSAwIDAgMCAxNiAzbTAgMjRhMTEgMTEgMCAxIDEgMTEtMTEgMTEuMDEgMTEuMDEgMCAwIDEtMTEgMTEiLz48cGF0aCBmaWxsPSIjQjIwRjAzIiBkPSJNMTcuMDM4IDE4LjYxNUgxNC44N0wxNC41NjMgOS41aDIuNzgzem0tMS4wODQgMS40MjdxLjY2IDAgMS4wNTcuMzg4LjQwNy4zODkuNDA3Ljk5NCAwIC41OTYtLjQwNy45ODQtLjM5Ny4zOS0xLjA1Ny4zODktLjY1IDAtMS4wNTYtLjM4OS0uMzk4LS4zODktLjM5OC0uOTg0IDAtLjU5Ny4zOTgtLjk4NS40MDYtLjM5NyAxLjA1Ni0uMzk3Ii8+PC9zdmc+)}}\n",
            "  </style>\n",
            "  <meta content=\"120\" http-equiv=\"refresh\"/>\n",
            " </head>\n",
            " <body class=\"no-js\">\n",
            "  <div class=\"main-wrapper\" role=\"main\">\n",
            "   <div class=\"main-content\">\n",
            "    <noscript>\n",
            "     <div id=\"challenge-error-title\">\n",
            "      <div class=\"h2\">\n",
            "       <span id=\"challenge-error-text\">\n",
            "        Enable JavaScript and cookies to continue\n",
            "       </span>\n",
            "      </div>\n",
            "     </div>\n",
            "    </noscript>\n",
            "   </div>\n",
            "  </div>\n",
            "  <script>\n",
            "   (function(){window._cf_chl_opt={cvId: '3',cZone: \"www.jumia.co.ke\",cType: 'non-interactive',cNounce: '18579',cRay: '8c11d5fa0e316759',cHash: '045bbfbcf8f6cd0',cUPMDTk: \"\\/space-heaters-accessories\\/?__cf_chl_tk=dXlyJx4xkcFY79cJ5P7nwYIYbTfGq_8pRzg5.1Ze554-1725996660-0.0.1.1-3796\",cFPWv: 'g',cTTimeMs: '1000',cMTimeMs: '120000',cTplV: 5,cTplB: 'cf',cK: \"\",fa: \"\\/space-heaters-accessories\\/?__cf_chl_f_tk=dXlyJx4xkcFY79cJ5P7nwYIYbTfGq_8pRzg5.1Ze554-1725996660-0.0.1.1-3796\",md: \"5CbiTxTeb8XZdzaRdCGjCWJy8s8Uxs9z3A_wE.7ikj4-1725996660-1.1.1.1-kyJiQM87ZLwsdGscZAMMVzz7RwLqMjhI8PGBSkYXfT0ABg5xq9wtI6pGeaOAvx5TlJZWs_RdLdLsP1JVhLznYpn.OQavWk1Kihr1b.oh4SKxkSDhG_OdzB7YuEg96MLdSpFGxxrfn1zJfTbswA7AtwSi8DiHamR69E.jSmWgTt9tcg0pt4jo8UBNzvwN1pQoJzIzNBfH6DupiCSuA_k59K0JUeRuPqiC3ntIG3dc4F9v9b8xuDmjS0AVW9koVFE2lOpPNflG78GaklAq9N3WyKTRq7DuBpfGOxctWY.jV3F6hrXBlB678pvN0dpVv5XN3L9HtRZUfWzMJNpIlXkwGrI.7ctVo8t5ELQLS92CVnOX80sv9jJwKsmsoxPub59IPj.dnPZTZ4ucfUHLv8fhuuHpidKp2b.IkPsBjLwU31TmSan_WurA.jZYtOGadRAjkf8Lik8X3blmB1CQ8OQ_j7FqKLnpFoDPzvfrI9ABL23LPOrah34i5uhKbRqINrnuz2BmbvLXvI1e_u1gvf_a.UFbVPDlZ6uyV1iP.s.hUQrcyPUjIJO1T1Nhv04erYourKjZpfJ_tWUAkpRk8K4VyaWXB3QV2B8GVJ7.7a.jEQxl.kfP93VqYQtezpOxCcsiWsnoy7XBBy9Xhtj9wrWUmq09SdaNlVu.ip70s_ja_KhJmw8hzrHNieIh_RJN7wt3Omt8exQb8l3SpTycFpL51DUJeiNn92RymyF4tZM89BEoH2bjO4Ghw67jvnka49hWUu6wciRIeT91pVzB1cukCcyGmygjZi_olHAgAXoCwOreX7XN5r.Ys6ht026E2n42IT4c.1Jqm8cJulG9ZhuOs7kof3jdr_bmA_hIaGL03.zjp68_DVEyCpExJ.WaFM7szRJE63Af.D1CZK3aBnPTdq9Bz_Nv25J59_W52eZwwVyzq_TGHTOeCX1Vk9QAgsqoRCHAERpC2XMt_AdVoqX_QasRq25ZBZbIDwlqh1Oth7awh8m9lg3yfy4UwW8ikxyicBrv6zcHqe8tjsk6vuJhjf3BVW4705ZOrYohXSXnnzJ4HRbL0TxeI6Z5vJmX.lcD2vxh1NRqRtYSuJAwR110Tg36yRUpU3SHsHAZ1nzlivPGaRq2aANnrIsxdkZLlT7acc0zpMU9cO7zDLZpM2HIYXnN9liJQ4WClrwy9H1j59cUfFoln69AteBe3KtmXeOI4FxzccSWm0h49RRx2w7cE9euWekyGwcVfX2a1BHBN3.5FA3fflJ7ccmmtxKC1CPuCk.ssCXdgAr_xq6N1wWseVzcu4s9FMn3Cq4K9HZWoUbpILUijiIrREijOEutGFxOYoZuTvETZX2jSso5XJxO0UdvdELrfnQrwHvw4.rDwzT8tuvxBPSzIuRTVufffj5ag14r1bbvN9PU9DRtGD50Wu8tEW3iSljLvPC70QTj4bTLUyq_Ksi9naFRit5LXAfkxfe3TCwgIs4q1GW3GhZI7ACr5TYFHtvSOrdWk1MSSY2fDc4t33lJHqXXxdm2Xuea\",mdrd: \"rTz1rxmSCRZThXkeMqqo7HF0SSbhbREwJCfbXbPGsrM-1725996660-1.1.1.1-8zFGAwoLF4JLn7ZiP2MqGYmx8JmSZjUpEPSOznuEv5Q2wundyDXAax7jXahwJSy7NESp2Sou99yY7sDyPmcQjOo.jZfiLy3NW0JL0rxEsx.i5QXiDfdmZj9zK8QOUTW0kVXi8OAKRgUCvFOVWIy6mzESwDciWXCb490qlAC53rMh4dL3kfMUAsOTSsD7iyMBKxnSV8u2Zqy.vI2u2fS471v.4CCMhINAV4b.h6ibCtANDTxtSHEM3u4qHY.9v5Uy7Kbbsr9YJcxkV7M3Ce1UfKLUIJyBA2u5yVGz3svWB9QnoW0BbiyWUSn80.1S6h0_1IpQ8U98WLyhYiUlDra7iRpZ.DcfeDFR00N_qmkN57pHkoZjn5SbhMOp7aOVOz.Y7ma9Q_5Sx.tYOEYhv0O70.UY2oITGzcMaowAPpH6QPYhWAM3_cLTDcrtraqnrFT8KCbSTtIEjtPZLMfwWphdbXEwxTNPwbiIRBDkvFwmlm5xqdpOdPLkmyNq8aqXZGndn_hXW1c9xZtyZALLWdtMiB10b5cKeJSHH_yHeW_zFuYJmx8UQhgBxtWqGy_dNEbxzZbQyqV_V46Wmt1Gn1zyRQzxEE0RbcCSxvDKC050O2PUWCWmpjHn7osubvcdNsBdroS1rGiqk93vW_P4OrSd.PO.1GmBC18B4.ovdX5V01SPI1b_3zxcw4fSI_0_BPITy0tPbSo5Y85_NL5ZYHXHV6bb68vyQBET_YdLsrI5_qUBX2HPWQl8VZBuRkhZf0cwgt7xFoUHFPpTYBCn1SjBv7d1Vu3ObtnTDWdnaz9Z42L4Qi_sVNVDzIaEEGKCa9cnuXZEeGGlBUrWwnAP70ph41k_6Z4_jV3cZL.JtCMsjs36923B36MUO6Pn5MPloR2vgFW9N63R9hMgeLnGr.IXU8tBfYG2v9hblbL_laIKjbUqbDn_VGD6RA9T6_UXJ32fe7c.kmDaNkLmHq43F1wQwOPvzwLo2QjlLdf2C7boT2hsIp..TRFYQkJvoWoXVHkI6KAo5HRM9bRp35ynkeMYR32y9HkqsfA5U3K8Q8mljqRiwCyIeTMG0vhqZoXoLM.EaDDB1JuY6.BSUVHZGADDYZ6VbT69zsshAV3GxdN_Lg0WXcpZcyP2j.62fydrAXSwLYIBtYZnO2EpdILzbxgTuhEnzMnW1mqkQ0dWJASp9wdokwjtCf51mFk_U0467zWzZHx6wdMOGeYMGlXo5bggIMOveVC5zZL803rQtLQL66yjSKKmKTr2sPJWtx1oA6Fecmmb00PCH3rzsdmHgNZaDcibKeEuLA3zD5N7aJcN7wcrCXjEZxNHWM.GvVXBpSvBX47A0wlAqiW6nraiVA33Eln1DrrVf_a9pwtirp3KLzhKbNLNLJAeu90L4pQy7NvZv1lRdC8VwdtECURcU3JoaJ5w_m.xlZ4ntmuBmXjy44yZgaVj3LmuvMVpenTFZmBqDoFvUyt3EJdfzVnMNf4cz.sOWVTN8IB3HVt9MswOI0T_moU8JzHcNt4YylNpvPq.jDvfSc8drew.bO_KZ_Vw.hHNsk1vBY_Z7ahD07l8._CVZhaayUZrUTXYEwaw6VxlTR0cnFuggodVTo2N9KRfb2I5lGlieU6hpus4ceLgrMVaEZJ8FZ6u8WD21S_Fs7MhkaLX9riqenSkHamHutRZEnft1.T2moXS0njHwIrlTD286ehv1eqeIyantBoHym4NlqEmkTmDhERxy6P9H2ml.A6lWq3LabkX7GojtB991UFF5DOjw8xK__T70679caayum3myMHVuujd0AawNt_B59gNlspqE31ljjlUG56x6ngtkH8kv2CPh8e5H3SQH_z4eei0D95YNUmblrUJwu4Mmd5YSxxxKBjne.5390Iarf.pbBQqFIi8qZd42keOnuUSCN5tT9.ZPWRL4X97ZtZq3yb_A1unlOx.xUDWinDC07KY6DMAjoSjywih2AZ8XCjWMt0jVy1ZoshEBxlfbeNltz0oaxKK8KZxLiBcZ.TpDrJZI1X_aDoQwladtkhUfEdK1VI15e5H0ShSCoHVatIXIrKah3oYwKXau_O_pOLQrRHtzJUlSWcGqmA2SZiwgTvR10E07If.SIqEmLcpC93PjQ\",cRq: {ru: 'aHR0cHM6Ly93d3cuanVtaWEuY28ua2Uvc3BhY2UtaGVhdGVycy1hY2Nlc3Nvcmllcy8=',ra: 'cHl0aG9uLXJlcXVlc3RzLzIuMzIuMw==',d: '4KQQoCQdw/Ev7jk+6ndxcqvw+3HLuVRx6HBfJhr+v3hNbGkDz7LChc+LrtoJLCq7DUtOYeGHhnGEH4LHoI3uupl2bQRt2yhlMC8I8msAl3DNN/oX6NTLorrKYj2SYOyD023y2JCZJfietiX5QgYOohhHWUkUk5vvRVAmWiYKUxC20KVzODq9jsQH5jN5p2REwF94AX7ydXiPGmmjlphAXJHNWSie5QpO7/w0Y+WcYGltAePhfQfgkggEvAQMYEZUJ6V8Bv08mtZhG/ZeF5w51n0fdStwLKcRc35nLy2KTuJKUAS5YXlOEILT20DXerGRPSWbemvWOkGh9eF5X2ZGPiJHev0du9RCrCDuyUmccT6Ru2jHL8v5lOeGxDcx2g8/rmhF5q3vPSS9/97GvgT5r9pmLKrP7M9OihTJKCUdZ+cDueITCXwPKCMcFmgRzMGnybAV5lihngL6+SC5XqCZgsIpyFt1oQFGI+wMK40t6J8xoviGsaJPO/0VRplq6wqr2PfebF5QKmayjXs7JR8mWXKzAGfKDWETTrBL/VUs8SaAZk7lil05BNpJ4OQtI+kjvdQfh3z8TGAI35s6I0aOsA==',t: 'MTcyNTk5NjY2MC4wMDAwMDA=',cT: Math.floor(Date.now() / 1000),m: 'qX/5id6+NSVEOHUuvhJi0L2e8qeGkr0UJM6UtHA/pMM=',i1: 'vLfU4CYw5eLQqDenzlrZwQ==',i2: 'JJJvM7wQRTLFGPVQxOjNmA==',zh: 'moWrAfISKnbIFyx8KQFBtW342BwltNpbKR9evZ5YL5A=',uh: 'CiATXs0R4tTCmAZrIKJMI0mbciEXZbJB6weC9NLv1LY=',hh: 'miQIz+G5yNiX8rpNL3vxqkPsTI2ulxEDpSEvU91KpzU=',}};var cpo = document.createElement('script');cpo.src = '/cdn-cgi/challenge-platform/h/g/orchestrate/chl_page/v1?ray=8c11d5fa0e316759';window._cf_chl_opt.cOgUHash = location.hash === '' && location.href.indexOf('#') !== -1 ? '#' : location.hash;window._cf_chl_opt.cOgUQuery = location.search === '' && location.href.slice(0, location.href.length - window._cf_chl_opt.cOgUHash.length).indexOf('?') !== -1 ? '?' : location.search;if (window.history && window.history.replaceState) {var ogU = location.pathname + window._cf_chl_opt.cOgUQuery + window._cf_chl_opt.cOgUHash;history.replaceState(null, null, \"\\/space-heaters-accessories\\/?__cf_chl_rt_tk=dXlyJx4xkcFY79cJ5P7nwYIYbTfGq_8pRzg5.1Ze554-1725996660-0.0.1.1-3796\" + window._cf_chl_opt.cOgUHash);cpo.onload = function() {history.replaceState(null, null, ogU);}}document.getElementsByTagName('head')[0].appendChild(cpo);}());\n",
            "  </script>\n",
            " </body>\n",
            "</html>\n",
            "\n"
          ]
        }
      ]
    },
    {
      "cell_type": "code",
      "source": [
        "# Step 3: Extracting required elements\n",
        "\n",
        "products = soup.find_all('article', class_='prd', limit=10)\n",
        "\n",
        "product_list = []\n",
        "\n",
        "for product in products:\n",
        "    title = product.find('h3', class_='name').text.strip()\n",
        "    price = product.find('div', class_='prc').text.strip()\n",
        "    product_list.append({'title': title, 'price': price})\n",
        "\n",
        "# Preview the extracted product details\n",
        "for index, product in enumerate(product_list, start=1):\n",
        "    print(f\"Product {index}: {product['title']} - {product['price']}\")\n"
      ],
      "metadata": {
        "id": "X5bzQKwmbKhW"
      },
      "execution_count": 7,
      "outputs": []
    },
    {
      "cell_type": "code",
      "source": [
        "products = []\n",
        "for product in soup.find_all('div', class_='product'):\n",
        "    title = product.find('a', class_='product-title').text\n",
        "    price = product.find('span', class_='price').text\n",
        "    rating = product.find('span', class_='rating').text\n",
        "    products.append({'Title': title, 'Price': price, 'Rating': rating})\n"
      ],
      "metadata": {
        "id": "PgQA6GoWfHoo"
      },
      "execution_count": 8,
      "outputs": []
    },
    {
      "cell_type": "code",
      "source": [
        "# Preview the extracted product details\n",
        "for index, product in enumerate(products, start=1):\n",
        "    print(f\"Product {index}: {product['title']} - {product['price']}\")"
      ],
      "metadata": {
        "id": "YdZChlhsfNIA"
      },
      "execution_count": 9,
      "outputs": []
    },
    {
      "cell_type": "code",
      "source": [
        "# Step 4: Saving our data\n",
        "with open('top_10_jumia_ads.txt', 'w') as file:\n",
        "    for product in product_list:\n",
        "        file.write(f\"Product: {product['title']}, Price: {product['price']}\\n\")\n",
        "\n",
        "# Step 5: Previewing the saved data\n",
        "print(\"\\nPreview of the saved data:\\n\")\n",
        "with open('top_10_jumia_ads.txt', 'r') as file:\n",
        "    for line in file.readlines():\n",
        "        print(line.strip())"
      ],
      "metadata": {
        "colab": {
          "base_uri": "https://localhost:8080/"
        },
        "id": "uqHLxcxafXKU",
        "outputId": "6251644c-46d8-43d4-acdb-fb2cc85cddcc"
      },
      "execution_count": 10,
      "outputs": [
        {
          "output_type": "stream",
          "name": "stdout",
          "text": [
            "\n",
            "Preview of the saved data:\n",
            "\n"
          ]
        }
      ]
    }
  ]
}