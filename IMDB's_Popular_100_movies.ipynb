{
  "nbformat": 4,
  "nbformat_minor": 0,
  "metadata": {
    "colab": {
      "provenance": [],
      "authorship_tag": "ABX9TyNtWlDFWDPTO9X4tttBhnHs",
      "include_colab_link": true
    },
    "kernelspec": {
      "name": "python3",
      "display_name": "Python 3"
    },
    "language_info": {
      "name": "python"
    }
  },
  "cells": [
    {
      "cell_type": "markdown",
      "metadata": {
        "id": "view-in-github",
        "colab_type": "text"
      },
      "source": [
        "<a href=\"https://colab.research.google.com/github/BrianKipngeno/Web-scrapping-with-Python/blob/main/IMDB's_Popular_100_movies.ipynb\" target=\"_parent\"><img src=\"https://colab.research.google.com/assets/colab-badge.svg\" alt=\"Open In Colab\"/></a>"
      ]
    },
    {
      "cell_type": "markdown",
      "source": [
        "Python program to download IMDB's Popular 100 movie data to Return (movie name, release year and imdb rate\n",
        "\n",
        " Website URL = https://www.imdb.com/chart/moviemeter"
      ],
      "metadata": {
        "id": "m15HviUGkjLs"
      }
    },
    {
      "cell_type": "code",
      "source": [
        "# importing required Libraries\n",
        "import pandas as pd  # to create dataframe\n",
        "import requests  # to send the request to the URL\n",
        "from bs4 import BeautifulSoup  # to get the content in the form of HTML\n",
        "import numpy as np  # to count the values (in our case)\n",
        "\n",
        "# assigning the URL with variable name url\n",
        "url = 'https://www.imdb.com/chart/moviemeter'\n",
        "# request allow you to send HTTP request\n",
        "response = requests.get(url)\n",
        "soup = BeautifulSoup(response.content, 'html.parser')\n",
        "\n",
        "# creating an empty list\n",
        "movie_name = []\n",
        "year = []\n",
        "time = []\n",
        "rating = []\n",
        "metascore = []\n",
        "votes = []\n",
        "gross = []\n",
        "description = []\n",
        "Director = []\n",
        "Stars = []\n",
        "\n",
        "# storing the meaningfull required data in the variable\n",
        "movie_data = soup.findAll('div', attrs={'class': 'lister-item mode-advanced'})\n",
        "\n",
        "# calling one by one using for loop\n",
        "for store in movie_data:\n",
        "    name = store.h3.a.text\n",
        "    movie_name.append(name)\n",
        "\n",
        "    year_of_release = store.h3.find('span', class_='lister-item-year text-muted unbold').text.replace('(', '').replace(\n",
        "        ')', '')\n",
        "    year.append(year_of_release)\n",
        "\n",
        "    runtime = store.p.find('span', class_='runtime').text.replace(' min', '')\n",
        "    time.append(runtime)\n",
        "\n",
        "    rate = store.find('div', class_='inline-block ratings-imdb-rating').text.replace('\\n', '')\n",
        "    rating.append(rate)\n",
        "\n",
        "    meta = store.find('span', class_='metascore').text.replace(' ', '') if store.find('span',\n",
        "                                                                                      class_='metascore') else '^^^^^^'\n",
        "    metascore.append(meta)\n",
        "    # since, gross and votes have same attributes, that's why we had created a common variable and then used indexing\n",
        "    value = store.find_all('span', attrs={'name': 'nv'})\n",
        "\n",
        "    vote = value[0].text\n",
        "    votes.append(vote)\n",
        "\n",
        "    grosses = value[1].text if len(value) > 1 else '*****'\n",
        "    gross.append(grosses)\n",
        "\n",
        "    # Description of the Movies\n",
        "    describe = store.find_all('p', class_='text-muted')\n",
        "    description_ = describe[1].text.replace('\\n', '') if len(describe) > 1 else '*****'\n",
        "    description.append(description_)\n",
        "\n",
        "    # Cast Details (Director name and Stars)\n",
        "    cast = store.find(\"p\", class_='')\n",
        "    cast = cast.text.replace('\\n', '').split('|')\n",
        "    cast = [x.strip() for x in cast]\n",
        "    cast = [cast[i].replace(j, \"\") for i, j in enumerate([\"Director:\", \"Stars:\"])]\n",
        "    Director.append(cast[0])\n",
        "    Stars.append([x.strip() for x in cast[1].split(\",\")])\n",
        "\n",
        "# creating a dataframe using pandas library\n",
        "movie_DF = pd.DataFrame({'Name of movie': movie_name, 'Year of relase': year, 'Watchtime': time, 'Movie Rating': rating,\n",
        "                         'Metascore': metascore, 'Votes': votes, 'Gross collection': gross, 'Description': description,\n",
        "                         \"Director\": Director, 'Star': Stars})\n",
        "\n",
        "#Saving data in Excel file:\n",
        "\n",
        "movie_DF.to_excel(\"Top_100_IMDB_Movies.xlsx\")\n"
      ],
      "metadata": {
        "id": "jVbHpfkRk05g"
      },
      "execution_count": 3,
      "outputs": []
    }
  ]
}